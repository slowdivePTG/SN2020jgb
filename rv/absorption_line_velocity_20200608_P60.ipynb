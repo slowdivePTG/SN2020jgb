{
 "cells": [
  {
   "cell_type": "code",
   "execution_count": null,
   "metadata": {
    "ExecuteTime": {
     "end_time": "2021-10-20T03:44:32.959963Z",
     "start_time": "2021-10-20T03:44:32.875820Z"
    }
   },
   "outputs": [],
   "source": [
    "%load_ext autoreload\n",
    "%autoreload 2"
   ]
  },
  {
   "cell_type": "code",
   "execution_count": null,
   "metadata": {
    "ExecuteTime": {
     "end_time": "2021-10-20T03:44:35.446520Z",
     "start_time": "2021-10-20T03:44:33.356475Z"
    }
   },
   "outputs": [],
   "source": [
    "import absorption_line_vel as vel\n",
    "from absorption_line_vel import SpectrumSN_Lines, AbsorbLine\n",
    "\n",
    "# read spec data\n",
    "z = 0.0307\n",
    "spec = '../spectroscopy/ZTF20aayhacx_20200608_P60_v2.ascii'\n",
    "Spec1 = SpectrumSN_Lines(spec, z)"
   ]
  },
  {
   "cell_type": "markdown",
   "metadata": {},
   "source": [
    "# 20200608_P60"
   ]
  },
  {
   "cell_type": "markdown",
   "metadata": {},
   "source": [
    "## Si II 6355"
   ]
  },
  {
   "cell_type": "code",
   "execution_count": null,
   "metadata": {
    "ExecuteTime": {
     "end_time": "2021-10-20T03:44:38.697819Z",
     "start_time": "2021-10-20T03:44:36.300033Z"
    }
   },
   "outputs": [],
   "source": [
    "Spec1.plot_line_region(5800, 6500)"
   ]
  },
  {
   "cell_type": "code",
   "execution_count": null,
   "metadata": {
    "ExecuteTime": {
     "end_time": "2021-10-20T03:45:31.282097Z",
     "start_time": "2021-10-20T03:45:31.182467Z"
    }
   },
   "outputs": [],
   "source": [
    "Spec1.add_line('SiII_6355', 5900, 6300, lines=[6371.359, 6347.103])"
   ]
  },
  {
   "cell_type": "code",
   "execution_count": null,
   "metadata": {
    "ExecuteTime": {
     "end_time": "2021-10-20T03:45:32.176886Z",
     "start_time": "2021-10-20T03:45:31.802520Z"
    },
    "scrolled": true
   },
   "outputs": [],
   "source": [
    "Spec1.line['SiII_6355'].LS_estimator()"
   ]
  },
  {
   "cell_type": "code",
   "execution_count": null,
   "metadata": {
    "ExecuteTime": {
     "end_time": "2021-10-20T03:45:56.152662Z",
     "start_time": "2021-10-20T03:45:38.867138Z"
    },
    "scrolled": true
   },
   "outputs": [],
   "source": [
    "sampler = Spec1.line['SiII_6355'].MCMC_sampler()"
   ]
  },
  {
   "cell_type": "code",
   "execution_count": null,
   "metadata": {
    "ExecuteTime": {
     "end_time": "2021-10-20T03:46:17.169240Z",
     "start_time": "2021-10-20T03:45:56.157800Z"
    }
   },
   "outputs": [],
   "source": [
    "vel.plot_MCMC(sampler, 200)"
   ]
  },
  {
   "cell_type": "markdown",
   "metadata": {},
   "source": [
    "## Ca II IRT"
   ]
  },
  {
   "cell_type": "code",
   "execution_count": null,
   "metadata": {
    "ExecuteTime": {
     "end_time": "2021-10-20T03:49:11.024761Z",
     "start_time": "2021-10-20T03:49:10.626885Z"
    }
   },
   "outputs": [],
   "source": [
    "Spec1.plot_line_region(7400, 8900)"
   ]
  },
  {
   "cell_type": "code",
   "execution_count": null,
   "metadata": {
    "ExecuteTime": {
     "end_time": "2021-10-20T03:49:21.147087Z",
     "start_time": "2021-10-20T03:49:21.065859Z"
    }
   },
   "outputs": [],
   "source": [
    "Spec1.add_line('CaII_IRT', 7600, 8700, lines=[8498.018, 8542.089, 8662.140])"
   ]
  },
  {
   "cell_type": "code",
   "execution_count": null,
   "metadata": {
    "ExecuteTime": {
     "end_time": "2021-10-20T03:49:27.734564Z",
     "start_time": "2021-10-20T03:49:27.098763Z"
    }
   },
   "outputs": [],
   "source": [
    "Spec1.line['CaII_IRT'].LS_estimator(guess=(1, 1, -10000, 15, -1000, -25000, 15, -1000))"
   ]
  },
  {
   "cell_type": "code",
   "execution_count": null,
   "metadata": {
    "ExecuteTime": {
     "end_time": "2021-10-20T03:51:06.336644Z",
     "start_time": "2021-10-20T03:50:42.631334Z"
    }
   },
   "outputs": [],
   "source": [
    "mu_pvf_prior = -1.03144154e+04\n",
    "var_pvf_prior = 5e2**2\n",
    "sampler = Spec1.line['CaII_IRT'].MCMC_sampler(mu_pvf=mu_pvf_prior,\n",
    "                                              var_pvf=var_pvf_prior,\n",
    "                                              nburn=500)"
   ]
  },
  {
   "cell_type": "code",
   "execution_count": null,
   "metadata": {
    "ExecuteTime": {
     "end_time": "2021-10-20T03:51:50.567892Z",
     "start_time": "2021-10-20T03:51:06.342391Z"
    },
    "scrolled": true
   },
   "outputs": [],
   "source": [
    "vel.plot_MCMC(sampler, 500)"
   ]
  },
  {
   "cell_type": "code",
   "execution_count": null,
   "metadata": {},
   "outputs": [],
   "source": []
  }
 ],
 "metadata": {
  "kernelspec": {
   "display_name": "Python 3",
   "language": "python",
   "name": "python3"
  },
  "language_info": {
   "codemirror_mode": {
    "name": "ipython",
    "version": 3
   },
   "file_extension": ".py",
   "mimetype": "text/x-python",
   "name": "python",
   "nbconvert_exporter": "python",
   "pygments_lexer": "ipython3",
   "version": "3.8.3"
  }
 },
 "nbformat": 4,
 "nbformat_minor": 2
}
