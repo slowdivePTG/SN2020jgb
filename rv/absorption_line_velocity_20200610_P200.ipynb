{
 "cells": [
  {
   "cell_type": "code",
   "execution_count": 1,
   "metadata": {
    "ExecuteTime": {
     "end_time": "2021-10-21T18:57:39.608546Z",
     "start_time": "2021-10-21T18:57:39.576292Z"
    }
   },
   "outputs": [],
   "source": [
    "%load_ext autoreload\n",
    "%autoreload 2"
   ]
  },
  {
   "cell_type": "code",
   "execution_count": 2,
   "metadata": {
    "ExecuteTime": {
     "end_time": "2021-10-21T18:57:41.658631Z",
     "start_time": "2021-10-21T18:57:40.120604Z"
    }
   },
   "outputs": [
    {
     "name": "stderr",
     "output_type": "stream",
     "text": [
      "/Users/chang/Desktop/SNIa/SN2020jgb/rv/absorption_line_vel.py:82: UserWarning: No flux uncertainty in the datafile!\n",
      "  warnings.warn(\"No flux uncertainty in the datafile!\")\n"
     ]
    }
   ],
   "source": [
    "import absorption_line_vel as vel\n",
    "from absorption_line_vel import SpectrumSN_Lines, AbsorbLine\n",
    "\n",
    "# read spec data\n",
    "z = 0.0307\n",
    "spec = '../spectroscopy/ZTF20aayhacx_20200610_P200_v1.ascii'\n",
    "Spec1 = SpectrumSN_Lines(spec, z)"
   ]
  },
  {
   "cell_type": "markdown",
   "metadata": {},
   "source": [
    "# 20200610_P200"
   ]
  },
  {
   "cell_type": "markdown",
   "metadata": {},
   "source": [
    "## Si II 6355"
   ]
  },
  {
   "cell_type": "code",
   "execution_count": null,
   "metadata": {
    "ExecuteTime": {
     "end_time": "2021-10-21T18:49:58.900121Z",
     "start_time": "2021-10-21T18:49:57.177204Z"
    }
   },
   "outputs": [],
   "source": [
    "Spec1.plot_line_region(5800, 6500)"
   ]
  },
  {
   "cell_type": "code",
   "execution_count": null,
   "metadata": {
    "ExecuteTime": {
     "end_time": "2021-10-21T18:50:04.110765Z",
     "start_time": "2021-10-21T18:50:04.054114Z"
    }
   },
   "outputs": [],
   "source": [
    "Spec1.add_line('SiII_6355', 5900, 6400, lines=[6371.359, 6347.103])"
   ]
  },
  {
   "cell_type": "code",
   "execution_count": null,
   "metadata": {
    "ExecuteTime": {
     "end_time": "2021-10-21T18:50:09.184262Z",
     "start_time": "2021-10-21T18:50:08.560270Z"
    },
    "scrolled": true
   },
   "outputs": [],
   "source": [
    "Spec1.line['SiII_6355'].LS_estimator()"
   ]
  },
  {
   "cell_type": "code",
   "execution_count": null,
   "metadata": {
    "ExecuteTime": {
     "end_time": "2021-10-21T18:50:39.425724Z",
     "start_time": "2021-10-21T18:50:24.195629Z"
    },
    "scrolled": true
   },
   "outputs": [],
   "source": [
    "sampler = Spec1.line['SiII_6355'].MCMC_sampler()"
   ]
  },
  {
   "cell_type": "code",
   "execution_count": null,
   "metadata": {
    "ExecuteTime": {
     "end_time": "2021-10-21T18:51:12.740433Z",
     "start_time": "2021-10-21T18:50:43.349543Z"
    }
   },
   "outputs": [],
   "source": [
    "vel.plot_MCMC(sampler, 200)"
   ]
  },
  {
   "cell_type": "markdown",
   "metadata": {},
   "source": [
    "## Ca II IRT"
   ]
  },
  {
   "cell_type": "code",
   "execution_count": null,
   "metadata": {
    "ExecuteTime": {
     "end_time": "2021-10-21T18:51:13.061253Z",
     "start_time": "2021-10-21T18:51:12.742944Z"
    }
   },
   "outputs": [],
   "source": [
    "Spec1.plot_line_region(7400, 8900)"
   ]
  },
  {
   "cell_type": "code",
   "execution_count": null,
   "metadata": {
    "ExecuteTime": {
     "end_time": "2021-10-21T18:51:23.753874Z",
     "start_time": "2021-10-21T18:51:23.692063Z"
    }
   },
   "outputs": [],
   "source": [
    "Spec1.add_line('CaII_IRT', 7600, 8700, lines=[8498.018, 8542.089, 8662.140])"
   ]
  },
  {
   "cell_type": "code",
   "execution_count": null,
   "metadata": {
    "ExecuteTime": {
     "end_time": "2021-10-21T18:51:37.502086Z",
     "start_time": "2021-10-21T18:51:36.903728Z"
    }
   },
   "outputs": [],
   "source": [
    "Spec1.line['CaII_IRT'].LS_estimator(guess=(1, 1, -10000, 15, -1000, -25000, 15, -1000))"
   ]
  },
  {
   "cell_type": "code",
   "execution_count": null,
   "metadata": {
    "ExecuteTime": {
     "end_time": "2021-10-21T18:54:19.002594Z",
     "start_time": "2021-10-21T18:53:46.750302Z"
    }
   },
   "outputs": [],
   "source": [
    "mu_pvf_prior = Spec1.line['SiII_6355'].theta_MCMC[2]\n",
    "var_pvf_prior = Spec1.line['SiII_6355'].sig_theta_MCMC[2]**2\n",
    "sampler = Spec1.line['CaII_IRT'].MCMC_sampler(mu_pvf=mu_pvf_prior,\n",
    "                                              var_pvf=var_pvf_prior,\n",
    "                                              nburn=500)"
   ]
  },
  {
   "cell_type": "code",
   "execution_count": null,
   "metadata": {
    "ExecuteTime": {
     "end_time": "2021-10-21T18:54:56.107007Z",
     "start_time": "2021-10-21T18:54:19.007872Z"
    },
    "scrolled": true
   },
   "outputs": [],
   "source": [
    "vel.plot_MCMC(sampler, 500)"
   ]
  },
  {
   "cell_type": "code",
   "execution_count": null,
   "metadata": {},
   "outputs": [],
   "source": []
  }
 ],
 "metadata": {
  "kernelspec": {
   "display_name": "Python 3",
   "language": "python",
   "name": "python3"
  },
  "language_info": {
   "codemirror_mode": {
    "name": "ipython",
    "version": 3
   },
   "file_extension": ".py",
   "mimetype": "text/x-python",
   "name": "python",
   "nbconvert_exporter": "python",
   "pygments_lexer": "ipython3",
   "version": "3.8.3"
  }
 },
 "nbformat": 4,
 "nbformat_minor": 2
}
