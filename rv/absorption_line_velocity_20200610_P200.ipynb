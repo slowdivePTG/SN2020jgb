{
 "cells": [
  {
   "cell_type": "code",
   "execution_count": null,
   "metadata": {
    "ExecuteTime": {
     "end_time": "2021-10-20T03:52:28.084163Z",
     "start_time": "2021-10-20T03:52:28.007616Z"
    }
   },
   "outputs": [],
   "source": [
    "%load_ext autoreload\n",
    "%autoreload 2"
   ]
  },
  {
   "cell_type": "code",
   "execution_count": null,
   "metadata": {
    "ExecuteTime": {
     "end_time": "2021-10-20T03:58:26.598954Z",
     "start_time": "2021-10-20T03:58:26.040598Z"
    }
   },
   "outputs": [],
   "source": [
    "import absorption_line_vel as vel\n",
    "from absorption_line_vel import SpectrumSN_Lines, AbsorbLine\n",
    "\n",
    "# read spec data\n",
    "z = 0.0307\n",
    "spec = '../spectroscopy/ZTF20aayhacx_20200610_P200_v1.ascii'\n",
    "Spec1 = SpectrumSN_Lines(spec, z)"
   ]
  },
  {
   "cell_type": "markdown",
   "metadata": {},
   "source": [
    "# 20200610_P200"
   ]
  },
  {
   "cell_type": "markdown",
   "metadata": {},
   "source": [
    "## Si II 6355"
   ]
  },
  {
   "cell_type": "code",
   "execution_count": null,
   "metadata": {
    "ExecuteTime": {
     "end_time": "2021-10-20T03:57:58.217145Z",
     "start_time": "2021-10-20T03:57:57.815894Z"
    }
   },
   "outputs": [],
   "source": [
    "Spec1.plot_line_region(5800, 6500)"
   ]
  },
  {
   "cell_type": "code",
   "execution_count": null,
   "metadata": {
    "ExecuteTime": {
     "end_time": "2021-10-20T02:54:12.478810Z",
     "start_time": "2021-10-20T02:54:12.321883Z"
    }
   },
   "outputs": [],
   "source": [
    "Spec1.add_line('SiII_6355', 5900, 6400, lines=[6371.359, 6347.103])"
   ]
  },
  {
   "cell_type": "code",
   "execution_count": null,
   "metadata": {
    "ExecuteTime": {
     "end_time": "2021-10-20T02:54:13.265387Z",
     "start_time": "2021-10-20T02:54:12.489831Z"
    },
    "scrolled": true
   },
   "outputs": [],
   "source": [
    "Spec1.line['SiII_6355'].LS_estimator()"
   ]
  },
  {
   "cell_type": "code",
   "execution_count": null,
   "metadata": {
    "ExecuteTime": {
     "end_time": "2021-10-20T02:54:32.682652Z",
     "start_time": "2021-10-20T02:54:13.273226Z"
    },
    "scrolled": true
   },
   "outputs": [],
   "source": [
    "sampler = Spec1.line['SiII_6355'].MCMC_sampler()"
   ]
  },
  {
   "cell_type": "code",
   "execution_count": null,
   "metadata": {
    "ExecuteTime": {
     "end_time": "2021-10-20T02:54:47.306762Z",
     "start_time": "2021-10-20T02:54:32.688933Z"
    }
   },
   "outputs": [],
   "source": [
    "vel.plot_MCMC(sampler, 200)"
   ]
  },
  {
   "cell_type": "markdown",
   "metadata": {},
   "source": [
    "## Ca II IRT"
   ]
  },
  {
   "cell_type": "code",
   "execution_count": null,
   "metadata": {
    "ExecuteTime": {
     "end_time": "2021-10-20T02:54:47.662917Z",
     "start_time": "2021-10-20T02:54:47.309606Z"
    }
   },
   "outputs": [],
   "source": [
    "Spec1.plot_line_region(7400, 8900)"
   ]
  },
  {
   "cell_type": "code",
   "execution_count": null,
   "metadata": {
    "ExecuteTime": {
     "end_time": "2021-10-20T02:54:47.750963Z",
     "start_time": "2021-10-20T02:54:47.671358Z"
    }
   },
   "outputs": [],
   "source": [
    "Spec1.add_line('CaII_IRT', 7600, 8700, lines=[8498.018, 8542.089, 8662.140])"
   ]
  },
  {
   "cell_type": "code",
   "execution_count": null,
   "metadata": {
    "ExecuteTime": {
     "end_time": "2021-10-20T02:54:48.367879Z",
     "start_time": "2021-10-20T02:54:47.759831Z"
    }
   },
   "outputs": [],
   "source": [
    "Spec1.line['CaII_IRT'].LS_estimator(guess=(1, 1, -10000, 15, -1000, -25000, 15, -1000))"
   ]
  },
  {
   "cell_type": "code",
   "execution_count": null,
   "metadata": {
    "ExecuteTime": {
     "end_time": "2021-10-20T02:55:26.389772Z",
     "start_time": "2021-10-20T02:54:48.370332Z"
    }
   },
   "outputs": [],
   "source": [
    "mu_pvf_prior = Spec1.line['SiII_6355'].theta_MCMC[2]\n",
    "var_pvf_prior = Spec1.line['SiII_6355'].sig_theta_MCMC[2]**2\n",
    "sampler = Spec1.line['CaII_IRT'].MCMC_sampler(mu_pvf=mu_pvf_prior,\n",
    "                                              var_pvf=var_pvf_prior,\n",
    "                                              nburn=500)"
   ]
  },
  {
   "cell_type": "code",
   "execution_count": null,
   "metadata": {
    "ExecuteTime": {
     "end_time": "2021-10-20T02:55:54.523826Z",
     "start_time": "2021-10-20T02:55:26.394776Z"
    },
    "scrolled": true
   },
   "outputs": [],
   "source": [
    "vel.plot_MCMC(sampler, 500)"
   ]
  },
  {
   "cell_type": "code",
   "execution_count": null,
   "metadata": {},
   "outputs": [],
   "source": []
  }
 ],
 "metadata": {
  "kernelspec": {
   "display_name": "Python 3",
   "language": "python",
   "name": "python3"
  },
  "language_info": {
   "codemirror_mode": {
    "name": "ipython",
    "version": 3
   },
   "file_extension": ".py",
   "mimetype": "text/x-python",
   "name": "python",
   "nbconvert_exporter": "python",
   "pygments_lexer": "ipython3",
   "version": "3.8.3"
  }
 },
 "nbformat": 4,
 "nbformat_minor": 2
}
